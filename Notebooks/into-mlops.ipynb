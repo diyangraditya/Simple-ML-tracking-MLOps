{
 "cells": [
  {
   "metadata": {},
   "cell_type": "markdown",
   "source": "# A GUIDE INTO MLOPS",
   "id": "8a77807f92f26ee"
  },
  {
   "metadata": {},
   "cell_type": "markdown",
   "source": "MLOps is one of the crucial phase in a machine learning lifecycle to keep machine learning models maintained and perform well. There's an open source MLOps tool that easily to use, comprehensive ML library, and manage end-to-end ML workkflows from development to production. It is called [MLflow](https://mlflow.org). Here's how to understand by doing a fundamental implementation using ML flow. Let's just dive into the notebook.",
   "id": "e45425beb9736fa9"
  },
  {
   "metadata": {},
   "cell_type": "markdown",
   "source": [
    "# 1. Install MLflow\n",
    "\n",
    "run it on your IDE terminal\n",
    "\n",
    "`pip install mlflow`"
   ],
   "id": "9320760205345a18"
  },
  {
   "metadata": {
    "ExecuteTime": {
     "end_time": "2025-01-14T14:45:28.439405Z",
     "start_time": "2025-01-14T14:45:24.593266Z"
    }
   },
   "cell_type": "code",
   "source": [
    "import pandas as pd\n",
    "import matplotlib.pyplot as plt\n",
    "import mlflow\n",
    "from mlflow.models import infer_signature\n",
    "\n",
    "from sklearn.model_selection import train_test_split\n",
    "from sklearn.preprocessing import StandardScaler"
   ],
   "id": "7df9140457caed5e",
   "outputs": [],
   "execution_count": 1
  },
  {
   "metadata": {},
   "cell_type": "markdown",
   "source": [
    "### Interactive tables\n",
    "\n",
    "Effortlessly view, navigate, sort, and filter data. Create charts and access essential data insights, including descriptive statistics and missing values – all without writing a single line of code."
   ],
   "id": "2e44cfe2f556cba1"
  },
  {
   "metadata": {
    "collapsed": true
   },
   "cell_type": "code",
   "outputs": [],
   "source": [
    "# Defining data for the dataframe\n",
    "data = {\n",
    "    'Basket': ['A', 'B', 'C', 'D', 'E', 'F', 'G', 'H', 'I', 'J', 'K', 'L', 'M', 'N', 'O', 'P'],\n",
    "    'Apples': [10, 20, 30, 56, 40, 40, 67, 47, 40, 4, 49, 52, 5, 56, 35, 45],\n",
    "    'Bananas': [15, 6, 3, 45, 67, 44, 45, 11, 14, 18, 13, 12, 1, 34, 12, 12]\n",
    "}\n",
    "\n",
    "# Creating the dataframe\n",
    "df = pd.DataFrame(data)\n",
    "\n",
    "df"
   ],
   "id": "initial_id",
   "execution_count": null
  },
  {
   "metadata": {},
   "cell_type": "markdown",
   "source": [
    "### Visualization in IDE\n",
    "\n",
    "Create graphs and visualizations that match your chosen color scheme."
   ],
   "id": "62a8c026dc794d85"
  },
  {
   "metadata": {},
   "cell_type": "code",
   "outputs": [],
   "source": [
    "# Calculate the sums\n",
    "sum_apples = df['Apples'].sum()\n",
    "sum_bananas = df['Bananas'].sum()\n",
    "\n",
    "# Create a bar chart\n",
    "plt.bar(['Apples', 'Bananas'], [sum_apples, sum_bananas], color=['red', 'blue'])\n",
    "\n",
    "# Set a title\n",
    "plt.title('Comparison of total Apples and Bananas')\n",
    "\n",
    "# Show the plot\n",
    "plt.show()"
   ],
   "id": "e65e58a1b7e04493",
   "execution_count": null
  }
 ],
 "metadata": {
  "kernelspec": {
   "display_name": "Python 3",
   "language": "python",
   "name": "python3"
  },
  "language_info": {
   "codemirror_mode": {
    "name": "ipython",
    "version": 2
   },
   "file_extension": ".py",
   "mimetype": "text/x-python",
   "name": "python",
   "nbconvert_exporter": "python",
   "pygments_lexer": "ipython2",
   "version": "2.7.6"
  }
 },
 "nbformat": 4,
 "nbformat_minor": 5
}
