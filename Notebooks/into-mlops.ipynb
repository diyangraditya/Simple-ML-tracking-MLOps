{
 "cells": [
  {
   "metadata": {},
   "cell_type": "markdown",
   "source": "# A SIMPLIFIED MLOPS GUIDE USING MLFLOW",
   "id": "8a77807f92f26ee"
  },
  {
   "metadata": {},
   "cell_type": "markdown",
   "source": "MLOps is one of the crucial phase in a machine learning lifecycle to keep machine learning models maintained and perform well. There's an open source MLOps tool that easily to use, comprehensive ML library, and manage end-to-end ML workkflows from development to production. It is called [MLflow](https://mlflow.org). Here's how to understand by doing a fundamental implementation using ML flow. Let's just dive into the notebook.",
   "id": "e45425beb9736fa9"
  },
  {
   "metadata": {},
   "cell_type": "markdown",
   "source": [
    "# 1. Install MLflow (Including libraries and dependencies)\n",
    "\n",
    "run it on your IDE terminal\n",
    "\n",
    "`pip install mlflow`"
   ],
   "id": "9320760205345a18"
  },
  {
   "metadata": {},
   "cell_type": "markdown",
   "source": [
    "# 2. Launch the Mlflow Tracking Server\n",
    "\n",
    "Run it on your IDE terminal\n",
    "\n",
    "`mlflow server --host 127.0.0.1 --port 8080`\n",
    "\n",
    "You need to launch the MLflow tracking server and always keep it ongoing during the tutorial, if you close/kill the terminal it'll shut down the server. The screen should be showing like [this](../MLOps/Screenshots/ss1.png) (or ss1.png in the Screenshots folder)"
   ],
   "id": "6197cf8c27733aa6"
  },
  {
   "metadata": {},
   "cell_type": "markdown",
   "source": [
    "# 3. Using the MLFflow Client API using `MLflowClient`\n",
    "it could use for :\n",
    "1. Initiate a new Experiment.\n",
    "2. Start Runs within an Experiment.\n",
    "3. Document parameters, metrics, and tags for your Runs.\n",
    "4. Log artifacts linked to runs, such as models, tables, plots, and more.\n",
    "\n"
   ],
   "id": "2d6a5948d574d090"
  },
  {
   "metadata": {},
   "cell_type": "markdown",
   "source": "## 3.1 Import Dependencies",
   "id": "898adaf4e155a356"
  },
  {
   "metadata": {
    "ExecuteTime": {
     "end_time": "2025-01-15T09:32:20.661866Z",
     "start_time": "2025-01-15T09:32:20.659060Z"
    }
   },
   "cell_type": "code",
   "source": [
    "from mlflow import MlflowClient\n",
    "from pprint import pprint\n",
    "from sklearn.ensemble import RandomForestRegressor"
   ],
   "id": "7df9140457caed5e",
   "outputs": [],
   "execution_count": 6
  },
  {
   "metadata": {},
   "cell_type": "markdown",
   "source": "#### Configuring the MLflow Tracking Client",
   "id": "5f4661a9f59b273b"
  },
  {
   "metadata": {
    "ExecuteTime": {
     "end_time": "2025-01-15T09:03:37.194524Z",
     "start_time": "2025-01-15T09:03:37.191735Z"
    }
   },
   "cell_type": "code",
   "source": "client = MlflowClient(tracking_uri=\"http://127.0.0.1:8080\")",
   "id": "c2f116385d60a97a",
   "outputs": [],
   "execution_count": 2
  },
  {
   "metadata": {},
   "cell_type": "markdown",
   "source": [
    "# Default Experiment\n",
    "It's an outset of starting MLflow Tracking Server that if you don’t explicitly create a new experiment in MLflow, any run data is automatically stored in the “Default Experiment” so that it isn’t lost."
   ],
   "id": "a03d96335569a6fd"
  },
  {
   "metadata": {},
   "cell_type": "markdown",
   "source": [
    "## 3.2 Searching Experiments\n",
    "\n",
    "[mlflow.client.MlflowClient.search_experiments()](https://mlflow.org/docs/latest/python_api/mlflow.client.html#mlflow.client.MlflowClient.search_experiments)"
   ],
   "id": "b7cb1607e5fd274"
  },
  {
   "metadata": {
    "ExecuteTime": {
     "end_time": "2025-01-15T09:42:51.562363Z",
     "start_time": "2025-01-15T09:42:51.554335Z"
    }
   },
   "cell_type": "code",
   "source": [
    "all_experiments = client.search_experiments()\n",
    "print(all_experiments)\n",
    "\n",
    "# the output would be a list of Experiment objects"
   ],
   "id": "b451678e7c8115e8",
   "outputs": [
    {
     "name": "stdout",
     "output_type": "stream",
     "text": [
      "[<Experiment: artifact_location='mlflow-artifacts:/0', creation_time=1736852050555, experiment_id='0', last_update_time=1736852050555, lifecycle_stage='active', name='Default', tags={}>]\n"
     ]
    }
   ],
   "execution_count": 7
  },
  {
   "metadata": {},
   "cell_type": "markdown",
   "source": "To get familiar with accessing elements from returned collections from MLflow APIs, extract the `name` and the `lifecycle_stage` from the `search_experiments()` query and extract these attributes into a dict.",
   "id": "832ba57885603ac8"
  },
  {
   "metadata": {
    "ExecuteTime": {
     "end_time": "2025-01-15T09:47:46.968465Z",
     "start_time": "2025-01-15T09:47:46.964764Z"
    }
   },
   "cell_type": "code",
   "source": [
    "default_experiment = [\n",
    "    {\n",
    "        \"name\": experiment.name, \"lifecycle_stage\": experiment.lifecycle_stage\n",
    "    }\n",
    "    for experiment in all_experiments\n",
    "    if experiment.name == \"Default\"\n",
    "][0]\n",
    "\n",
    "pprint(default_experiment)"
   ],
   "id": "60f5091cd062c664",
   "outputs": [
    {
     "name": "stdout",
     "output_type": "stream",
     "text": [
      "{'lifecycle_stage': 'active', 'name': 'Default'}\n"
     ]
    }
   ],
   "execution_count": 8
  },
  {
   "metadata": {},
   "cell_type": "markdown",
   "source": "# 4. Creating experiments",
   "id": "f3fd42dd35865c38"
  },
  {
   "metadata": {},
   "cell_type": "markdown",
   "source": [
    "## Viewing the MLFlow UI\n",
    "you could see the default experiment with no run data at [http://127.0.0.1:8080](http://127.0.0.1:8080)\n",
    "\n",
    "## Notes on Tags vs Experiments\n",
    "While MLflow does provide a default experiment, it primarily serves as a ‘catch-all’ safety net for runs initiated without a specified active experiment. However, it’s not recommended for regular use. Instead, creating unique experiments for specific collections of runs offers numerous advantages, as we’ll explore below.\n",
    "\n",
    "**Benefits of Defining Unique Experiments**:\n",
    "\n",
    "1. **Enhanced Organization**: Experiments allow you to group related runs, making it easier to track and compare them. This is especially helpful when managing numerous runs, as in large-scale projects.\n",
    "2. **Metadata Annotation**: Experiments can carry metadata that aids in organizing and associating runs with larger projects.\n",
    "\n",
    "Consider the scenario below: we’re simulating participation in a large demand forecasting project. This project involves building forecasting models for various departments in a chain of grocery stores, each housing numerous products. Our focus here is the ‘produce’ department, which has several distinct items, each requiring its own forecast model. Organizing these models becomes paramount to ensure easy navigation and comparison.\n",
    "\n",
    "**When Should You Define an Experiment?**\n",
    "\n",
    "The guiding principle for creating an experiment is the consistency of the input data. If multiple runs use the same input dataset (even if they utilize different portions of it), they logically belong to the same experiment. For other hierarchical categorizations, using tags is advisable.\n"
   ],
   "id": "49a97608f0953044"
  },
  {
   "metadata": {
    "ExecuteTime": {
     "end_time": "2025-01-15T09:57:04.096601Z",
     "start_time": "2025-01-15T09:57:04.033342Z"
    }
   },
   "cell_type": "code",
   "source": [
    "# Provide an Experiment description that will appear in the UI\n",
    "experiment_description = (\n",
    "    \"This is the grocery forecasting project. \"\n",
    "    \"This experiment contains the produce models for apples.\"\n",
    ")\n",
    "\n",
    "# Provide searchable tags that define characteristics of the Runs that\n",
    "# will be in this Experiment\n",
    "experiment_tags = {\n",
    "    \"project_name\": \"grocery-forecasting\",\n",
    "    \"store_dept\": \"produce\",\n",
    "    \"team\": \"stores-ml\",\n",
    "    \"project_quarter\": \"Q3-2023\",\n",
    "    \"mlflow.note.content\": experiment_description,\n",
    "}\n",
    "\n",
    "# Create the Experiment, providing a unique name\n",
    "produce_apples_experiment = client.create_experiment(\n",
    "    name=\"Apple_Models1\", tags=experiment_tags\n",
    ")\n"
   ],
   "id": "424e31fcca598da9",
   "outputs": [
    {
     "ename": "RestException",
     "evalue": "RESOURCE_ALREADY_EXISTS: Experiment 'Apple_Models' already exists in deleted state. You can restore the experiment, or permanently delete the experiment from the .trash folder (under tracking server's root folder) in order to use this experiment name again.",
     "output_type": "error",
     "traceback": [
      "\u001B[0;31m---------------------------------------------------------------------------\u001B[0m",
      "\u001B[0;31mRestException\u001B[0m                             Traceback (most recent call last)",
      "Cell \u001B[0;32mIn[9], line 18\u001B[0m\n\u001B[1;32m      9\u001B[0m experiment_tags \u001B[38;5;241m=\u001B[39m {\n\u001B[1;32m     10\u001B[0m     \u001B[38;5;124m\"\u001B[39m\u001B[38;5;124mproject_name\u001B[39m\u001B[38;5;124m\"\u001B[39m: \u001B[38;5;124m\"\u001B[39m\u001B[38;5;124mgrocery-forecasting\u001B[39m\u001B[38;5;124m\"\u001B[39m,\n\u001B[1;32m     11\u001B[0m     \u001B[38;5;124m\"\u001B[39m\u001B[38;5;124mstore_dept\u001B[39m\u001B[38;5;124m\"\u001B[39m: \u001B[38;5;124m\"\u001B[39m\u001B[38;5;124mproduce\u001B[39m\u001B[38;5;124m\"\u001B[39m,\n\u001B[0;32m   (...)\u001B[0m\n\u001B[1;32m     14\u001B[0m     \u001B[38;5;124m\"\u001B[39m\u001B[38;5;124mmlflow.note.content\u001B[39m\u001B[38;5;124m\"\u001B[39m: experiment_description,\n\u001B[1;32m     15\u001B[0m }\n\u001B[1;32m     17\u001B[0m \u001B[38;5;66;03m# Create the Experiment, providing a unique name\u001B[39;00m\n\u001B[0;32m---> 18\u001B[0m produce_apples_experiment \u001B[38;5;241m=\u001B[39m \u001B[43mclient\u001B[49m\u001B[38;5;241;43m.\u001B[39;49m\u001B[43mcreate_experiment\u001B[49m\u001B[43m(\u001B[49m\n\u001B[1;32m     19\u001B[0m \u001B[43m    \u001B[49m\u001B[43mname\u001B[49m\u001B[38;5;241;43m=\u001B[39;49m\u001B[38;5;124;43m\"\u001B[39;49m\u001B[38;5;124;43mApple_Models\u001B[39;49m\u001B[38;5;124;43m\"\u001B[39;49m\u001B[43m,\u001B[49m\u001B[43m \u001B[49m\u001B[43mtags\u001B[49m\u001B[38;5;241;43m=\u001B[39;49m\u001B[43mexperiment_tags\u001B[49m\n\u001B[1;32m     20\u001B[0m \u001B[43m)\u001B[49m\n",
      "File \u001B[0;32m~/.conda/envs/LearnMLOps/lib/python3.10/site-packages/mlflow/tracking/client.py:1311\u001B[0m, in \u001B[0;36mMlflowClient.create_experiment\u001B[0;34m(self, name, artifact_location, tags)\u001B[0m\n\u001B[1;32m   1259\u001B[0m \u001B[38;5;28;01mdef\u001B[39;00m \u001B[38;5;21mcreate_experiment\u001B[39m(\n\u001B[1;32m   1260\u001B[0m     \u001B[38;5;28mself\u001B[39m,\n\u001B[1;32m   1261\u001B[0m     name: \u001B[38;5;28mstr\u001B[39m,\n\u001B[1;32m   1262\u001B[0m     artifact_location: Optional[\u001B[38;5;28mstr\u001B[39m] \u001B[38;5;241m=\u001B[39m \u001B[38;5;28;01mNone\u001B[39;00m,\n\u001B[1;32m   1263\u001B[0m     tags: Optional[\u001B[38;5;28mdict\u001B[39m[\u001B[38;5;28mstr\u001B[39m, Any]] \u001B[38;5;241m=\u001B[39m \u001B[38;5;28;01mNone\u001B[39;00m,\n\u001B[1;32m   1264\u001B[0m ) \u001B[38;5;241m-\u001B[39m\u001B[38;5;241m>\u001B[39m \u001B[38;5;28mstr\u001B[39m:\n\u001B[1;32m   1265\u001B[0m \u001B[38;5;250m    \u001B[39m\u001B[38;5;124;03m\"\"\"Create an experiment.\u001B[39;00m\n\u001B[1;32m   1266\u001B[0m \n\u001B[1;32m   1267\u001B[0m \u001B[38;5;124;03m    Args:\u001B[39;00m\n\u001B[0;32m   (...)\u001B[0m\n\u001B[1;32m   1309\u001B[0m \n\u001B[1;32m   1310\u001B[0m \u001B[38;5;124;03m    \"\"\"\u001B[39;00m\n\u001B[0;32m-> 1311\u001B[0m     \u001B[38;5;28;01mreturn\u001B[39;00m \u001B[38;5;28;43mself\u001B[39;49m\u001B[38;5;241;43m.\u001B[39;49m\u001B[43m_tracking_client\u001B[49m\u001B[38;5;241;43m.\u001B[39;49m\u001B[43mcreate_experiment\u001B[49m\u001B[43m(\u001B[49m\u001B[43mname\u001B[49m\u001B[43m,\u001B[49m\u001B[43m \u001B[49m\u001B[43martifact_location\u001B[49m\u001B[43m,\u001B[49m\u001B[43m \u001B[49m\u001B[43mtags\u001B[49m\u001B[43m)\u001B[49m\n",
      "File \u001B[0;32m~/.conda/envs/LearnMLOps/lib/python3.10/site-packages/mlflow/tracking/_tracking_service/client.py:519\u001B[0m, in \u001B[0;36mTrackingServiceClient.create_experiment\u001B[0;34m(self, name, artifact_location, tags)\u001B[0m\n\u001B[1;32m    505\u001B[0m \u001B[38;5;250m\u001B[39m\u001B[38;5;124;03m\"\"\"Create an experiment.\u001B[39;00m\n\u001B[1;32m    506\u001B[0m \n\u001B[1;32m    507\u001B[0m \u001B[38;5;124;03mArgs:\u001B[39;00m\n\u001B[0;32m   (...)\u001B[0m\n\u001B[1;32m    516\u001B[0m \n\u001B[1;32m    517\u001B[0m \u001B[38;5;124;03m\"\"\"\u001B[39;00m\n\u001B[1;32m    518\u001B[0m _validate_experiment_artifact_location(artifact_location)\n\u001B[0;32m--> 519\u001B[0m \u001B[38;5;28;01mreturn\u001B[39;00m \u001B[38;5;28;43mself\u001B[39;49m\u001B[38;5;241;43m.\u001B[39;49m\u001B[43mstore\u001B[49m\u001B[38;5;241;43m.\u001B[39;49m\u001B[43mcreate_experiment\u001B[49m\u001B[43m(\u001B[49m\n\u001B[1;32m    520\u001B[0m \u001B[43m    \u001B[49m\u001B[43mname\u001B[49m\u001B[38;5;241;43m=\u001B[39;49m\u001B[43mname\u001B[49m\u001B[43m,\u001B[49m\n\u001B[1;32m    521\u001B[0m \u001B[43m    \u001B[49m\u001B[43martifact_location\u001B[49m\u001B[38;5;241;43m=\u001B[39;49m\u001B[43martifact_location\u001B[49m\u001B[43m,\u001B[49m\n\u001B[1;32m    522\u001B[0m \u001B[43m    \u001B[49m\u001B[43mtags\u001B[49m\u001B[38;5;241;43m=\u001B[39;49m\u001B[43m[\u001B[49m\u001B[43mExperimentTag\u001B[49m\u001B[43m(\u001B[49m\u001B[43mkey\u001B[49m\u001B[43m,\u001B[49m\u001B[43m \u001B[49m\u001B[43mvalue\u001B[49m\u001B[43m)\u001B[49m\u001B[43m \u001B[49m\u001B[38;5;28;43;01mfor\u001B[39;49;00m\u001B[43m \u001B[49m\u001B[43m(\u001B[49m\u001B[43mkey\u001B[49m\u001B[43m,\u001B[49m\u001B[43m \u001B[49m\u001B[43mvalue\u001B[49m\u001B[43m)\u001B[49m\u001B[43m \u001B[49m\u001B[38;5;129;43;01min\u001B[39;49;00m\u001B[43m \u001B[49m\u001B[43mtags\u001B[49m\u001B[38;5;241;43m.\u001B[39;49m\u001B[43mitems\u001B[49m\u001B[43m(\u001B[49m\u001B[43m)\u001B[49m\u001B[43m]\u001B[49m\u001B[43m \u001B[49m\u001B[38;5;28;43;01mif\u001B[39;49;00m\u001B[43m \u001B[49m\u001B[43mtags\u001B[49m\u001B[43m \u001B[49m\u001B[38;5;28;43;01melse\u001B[39;49;00m\u001B[43m \u001B[49m\u001B[43m[\u001B[49m\u001B[43m]\u001B[49m\u001B[43m,\u001B[49m\n\u001B[1;32m    523\u001B[0m \u001B[43m\u001B[49m\u001B[43m)\u001B[49m\n",
      "File \u001B[0;32m~/.conda/envs/LearnMLOps/lib/python3.10/site-packages/mlflow/store/tracking/rest_store.py:126\u001B[0m, in \u001B[0;36mRestStore.create_experiment\u001B[0;34m(self, name, artifact_location, tags)\u001B[0m\n\u001B[1;32m    122\u001B[0m tag_protos \u001B[38;5;241m=\u001B[39m [tag\u001B[38;5;241m.\u001B[39mto_proto() \u001B[38;5;28;01mfor\u001B[39;00m tag \u001B[38;5;129;01min\u001B[39;00m tags] \u001B[38;5;28;01mif\u001B[39;00m tags \u001B[38;5;28;01melse\u001B[39;00m []\n\u001B[1;32m    123\u001B[0m req_body \u001B[38;5;241m=\u001B[39m message_to_json(\n\u001B[1;32m    124\u001B[0m     CreateExperiment(name\u001B[38;5;241m=\u001B[39mname, artifact_location\u001B[38;5;241m=\u001B[39martifact_location, tags\u001B[38;5;241m=\u001B[39mtag_protos)\n\u001B[1;32m    125\u001B[0m )\n\u001B[0;32m--> 126\u001B[0m response_proto \u001B[38;5;241m=\u001B[39m \u001B[38;5;28;43mself\u001B[39;49m\u001B[38;5;241;43m.\u001B[39;49m\u001B[43m_call_endpoint\u001B[49m\u001B[43m(\u001B[49m\u001B[43mCreateExperiment\u001B[49m\u001B[43m,\u001B[49m\u001B[43m \u001B[49m\u001B[43mreq_body\u001B[49m\u001B[43m)\u001B[49m\n\u001B[1;32m    127\u001B[0m \u001B[38;5;28;01mreturn\u001B[39;00m response_proto\u001B[38;5;241m.\u001B[39mexperiment_id\n",
      "File \u001B[0;32m~/.conda/envs/LearnMLOps/lib/python3.10/site-packages/mlflow/store/tracking/rest_store.py:82\u001B[0m, in \u001B[0;36mRestStore._call_endpoint\u001B[0;34m(self, api, json_body, endpoint)\u001B[0m\n\u001B[1;32m     80\u001B[0m     endpoint, method \u001B[38;5;241m=\u001B[39m _METHOD_TO_INFO[api]\n\u001B[1;32m     81\u001B[0m response_proto \u001B[38;5;241m=\u001B[39m api\u001B[38;5;241m.\u001B[39mResponse()\n\u001B[0;32m---> 82\u001B[0m \u001B[38;5;28;01mreturn\u001B[39;00m \u001B[43mcall_endpoint\u001B[49m\u001B[43m(\u001B[49m\u001B[38;5;28;43mself\u001B[39;49m\u001B[38;5;241;43m.\u001B[39;49m\u001B[43mget_host_creds\u001B[49m\u001B[43m(\u001B[49m\u001B[43m)\u001B[49m\u001B[43m,\u001B[49m\u001B[43m \u001B[49m\u001B[43mendpoint\u001B[49m\u001B[43m,\u001B[49m\u001B[43m \u001B[49m\u001B[43mmethod\u001B[49m\u001B[43m,\u001B[49m\u001B[43m \u001B[49m\u001B[43mjson_body\u001B[49m\u001B[43m,\u001B[49m\u001B[43m \u001B[49m\u001B[43mresponse_proto\u001B[49m\u001B[43m)\u001B[49m\n",
      "File \u001B[0;32m~/.conda/envs/LearnMLOps/lib/python3.10/site-packages/mlflow/utils/rest_utils.py:370\u001B[0m, in \u001B[0;36mcall_endpoint\u001B[0;34m(host_creds, endpoint, method, json_body, response_proto, extra_headers)\u001B[0m\n\u001B[1;32m    367\u001B[0m     call_kwargs[\u001B[38;5;124m\"\u001B[39m\u001B[38;5;124mjson\u001B[39m\u001B[38;5;124m\"\u001B[39m] \u001B[38;5;241m=\u001B[39m json_body\n\u001B[1;32m    368\u001B[0m     response \u001B[38;5;241m=\u001B[39m http_request(\u001B[38;5;241m*\u001B[39m\u001B[38;5;241m*\u001B[39mcall_kwargs)\n\u001B[0;32m--> 370\u001B[0m response \u001B[38;5;241m=\u001B[39m \u001B[43mverify_rest_response\u001B[49m\u001B[43m(\u001B[49m\u001B[43mresponse\u001B[49m\u001B[43m,\u001B[49m\u001B[43m \u001B[49m\u001B[43mendpoint\u001B[49m\u001B[43m)\u001B[49m\n\u001B[1;32m    371\u001B[0m response_to_parse \u001B[38;5;241m=\u001B[39m response\u001B[38;5;241m.\u001B[39mtext\n\u001B[1;32m    372\u001B[0m js_dict \u001B[38;5;241m=\u001B[39m json\u001B[38;5;241m.\u001B[39mloads(response_to_parse)\n",
      "File \u001B[0;32m~/.conda/envs/LearnMLOps/lib/python3.10/site-packages/mlflow/utils/rest_utils.py:240\u001B[0m, in \u001B[0;36mverify_rest_response\u001B[0;34m(response, endpoint)\u001B[0m\n\u001B[1;32m    238\u001B[0m \u001B[38;5;28;01mif\u001B[39;00m response\u001B[38;5;241m.\u001B[39mstatus_code \u001B[38;5;241m!=\u001B[39m \u001B[38;5;241m200\u001B[39m:\n\u001B[1;32m    239\u001B[0m     \u001B[38;5;28;01mif\u001B[39;00m _can_parse_as_json_object(response\u001B[38;5;241m.\u001B[39mtext):\n\u001B[0;32m--> 240\u001B[0m         \u001B[38;5;28;01mraise\u001B[39;00m RestException(json\u001B[38;5;241m.\u001B[39mloads(response\u001B[38;5;241m.\u001B[39mtext))\n\u001B[1;32m    241\u001B[0m     \u001B[38;5;28;01melse\u001B[39;00m:\n\u001B[1;32m    242\u001B[0m         base_msg \u001B[38;5;241m=\u001B[39m (\n\u001B[1;32m    243\u001B[0m             \u001B[38;5;124mf\u001B[39m\u001B[38;5;124m\"\u001B[39m\u001B[38;5;124mAPI request to endpoint \u001B[39m\u001B[38;5;132;01m{\u001B[39;00mendpoint\u001B[38;5;132;01m}\u001B[39;00m\u001B[38;5;124m \u001B[39m\u001B[38;5;124m\"\u001B[39m\n\u001B[1;32m    244\u001B[0m             \u001B[38;5;124mf\u001B[39m\u001B[38;5;124m\"\u001B[39m\u001B[38;5;124mfailed with error code \u001B[39m\u001B[38;5;132;01m{\u001B[39;00mresponse\u001B[38;5;241m.\u001B[39mstatus_code\u001B[38;5;132;01m}\u001B[39;00m\u001B[38;5;124m != 200\u001B[39m\u001B[38;5;124m\"\u001B[39m\n\u001B[1;32m    245\u001B[0m         )\n",
      "\u001B[0;31mRestException\u001B[0m: RESOURCE_ALREADY_EXISTS: Experiment 'Apple_Models' already exists in deleted state. You can restore the experiment, or permanently delete the experiment from the .trash folder (under tracking server's root folder) in order to use this experiment name again."
     ]
    }
   ],
   "execution_count": 9
  },
  {
   "metadata": {},
   "cell_type": "markdown",
   "source": "## Search based on tags",
   "id": "fb4ff51f842f4151"
  },
  {
   "metadata": {},
   "cell_type": "markdown",
   "source": [
    "### Interactive tables\n",
    "\n",
    "Effortlessly view, navigate, sort, and filter data. Create charts and access essential data insights, including descriptive statistics and missing values – all without writing a single line of code."
   ],
   "id": "2e44cfe2f556cba1"
  },
  {
   "metadata": {
    "collapsed": true
   },
   "cell_type": "code",
   "outputs": [],
   "source": [
    "# Defining data for the dataframe\n",
    "data = {\n",
    "    'Basket': ['A', 'B', 'C', 'D', 'E', 'F', 'G', 'H', 'I', 'J', 'K', 'L', 'M', 'N', 'O', 'P'],\n",
    "    'Apples': [10, 20, 30, 56, 40, 40, 67, 47, 40, 4, 49, 52, 5, 56, 35, 45],\n",
    "    'Bananas': [15, 6, 3, 45, 67, 44, 45, 11, 14, 18, 13, 12, 1, 34, 12, 12]\n",
    "}\n",
    "\n",
    "# Creating the dataframe\n",
    "df = pd.DataFrame(data)\n",
    "\n",
    "df"
   ],
   "id": "initial_id",
   "execution_count": null
  },
  {
   "metadata": {},
   "cell_type": "markdown",
   "source": [
    "### Visualization in IDE\n",
    "\n",
    "Create graphs and visualizations that match your chosen color scheme."
   ],
   "id": "62a8c026dc794d85"
  },
  {
   "metadata": {},
   "cell_type": "code",
   "outputs": [],
   "source": [
    "# Calculate the sums\n",
    "sum_apples = df['Apples'].sum()\n",
    "sum_bananas = df['Bananas'].sum()\n",
    "\n",
    "# Create a bar chart\n",
    "plt.bar(['Apples', 'Bananas'], [sum_apples, sum_bananas], color=['red', 'blue'])\n",
    "\n",
    "# Set a title\n",
    "plt.title('Comparison of total Apples and Bananas')\n",
    "\n",
    "# Show the plot\n",
    "plt.show()"
   ],
   "id": "e65e58a1b7e04493",
   "execution_count": null
  }
 ],
 "metadata": {
  "kernelspec": {
   "display_name": "Python 3",
   "language": "python",
   "name": "python3"
  },
  "language_info": {
   "codemirror_mode": {
    "name": "ipython",
    "version": 2
   },
   "file_extension": ".py",
   "mimetype": "text/x-python",
   "name": "python",
   "nbconvert_exporter": "python",
   "pygments_lexer": "ipython2",
   "version": "2.7.6"
  }
 },
 "nbformat": 4,
 "nbformat_minor": 5
}
